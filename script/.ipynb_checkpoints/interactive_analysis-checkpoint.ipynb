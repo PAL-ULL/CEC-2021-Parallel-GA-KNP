{
 "cells": [
  {
   "cell_type": "markdown",
   "metadata": {},
   "source": [
    "# Análisis de los resultados del estudio preliminar - CEC 2021\n"
   ]
  },
  {
   "cell_type": "code",
   "execution_count": 1,
   "metadata": {},
   "outputs": [],
   "source": [
    "from os import listdir\n",
    "import numpy as np\n",
    "import re\n",
    "import json\n",
    "from pprint import pprint as pp\n",
    "import matplotlib.pyplot as plt\n",
    "import pandas as pd\n",
    "from sklearn import preprocessing\n",
    "\n",
    "%matplotlib inline"
   ]
  },
  {
   "cell_type": "code",
   "execution_count": 9,
   "metadata": {},
   "outputs": [],
   "source": [
    "pd.set_option('display.max_rows', 500)\n",
    "pd.set_option('display.max_columns', 500)\n",
    "pd.set_option('display.width', 1000)"
   ]
  },
  {
   "cell_type": "code",
   "execution_count": 5,
   "metadata": {},
   "outputs": [],
   "source": [
    "DYNAMIC = 'Dynamic'\n",
    "DP = \".DP\"\n",
    "JSON = \".json\"\n",
    "DP_PATH = '/home/amarrero/Proyectos/CEC-2021-Parallel-GA-KNP/results/DynamicProgramming'\n",
    "GA_PATH = '/home/amarrero/Proyectos/CEC-2021-Parallel-GA-KNP/results/Preliminar/'\n",
    "RATIO = 'Ratio Avg Objective / Avg Elapsed Time'\n",
    "AVG_TIME = 'Average Elapsed Time (s)'\n",
    "AVG_OBJS = 'Average Objective'\n",
    "CONFIG = 'Configuration'"
   ]
  },
  {
   "cell_type": "code",
   "execution_count": 2,
   "metadata": {},
   "outputs": [],
   "source": [
    "def parse_files(path, pattern, verbose=True):\n",
    "    # Parseamos cada fichero de resultados\n",
    "    dp_file = f'{DP_PATH}/{pattern}{DP}'\n",
    "    optimal = 0\n",
    "    dp_time = 0\n",
    "    with open(dp_file) as file:\n",
    "        optimal = float(file.readline())\n",
    "        dp_time = float(file.readline())\n",
    "\n",
    "    dp_ratio = optimal / dp_time\n",
    "    inst_regex = rf'.*{pattern}\\.kp\\w+{JSON}'\n",
    "    configs = {}\n",
    "    for file in listdir(path):\n",
    "        # Buscamos todos los ficheros de resultados para la instancia concreta\n",
    "        if re.match(inst_regex, file):\n",
    "            key = file[:file.find('Inst') - 1]\n",
    "            group = configs.get(key, [])\n",
    "            with open(f'{path}/{file}') as f:\n",
    "                j_file = json.load(f)\n",
    "            objectives = j_file['Results']['Objectives']\n",
    "            elapsed_time = j_file['Name']['Elapsed Time']\n",
    "            # Nos quedamos con el mejor resultado obtenido\n",
    "            group.append((max(objectives), elapsed_time))\n",
    "            configs[key] = group\n",
    "\n",
    "    results = {}\n",
    "    for key in configs:\n",
    "        avg = np.average(configs[key], axis=0)\n",
    "        ratio = avg[0] / avg[1]\n",
    "        results[key] = [avg[0], avg[1], ratio]\n",
    "\n",
    "    results[DYNAMIC] = [optimal, dp_time, dp_ratio]\n",
    "    df = pd.DataFrame.from_dict(results, orient='index',\n",
    "                                columns=[AVG_OBJS, AVG_TIME, RATIO])\n",
    "    df.index.name = CONFIG\n",
    "    return df\n",
    "\n",
    "\n",
    "def to_plot(results, title):\n",
    "    min_max_scaler = preprocessing.MinMaxScaler()\n",
    "    ratio_scaled = min_max_scaler.fit_transform(results[[RATIO]])\n",
    "    results['norm_ratio'] = ratio_scaled\n",
    "    results.plot(kind='bar', y='norm_ratio')\n"
   ]
  },
  {
   "cell_type": "markdown",
   "metadata": {},
   "source": [
    "## SpannerStronglyCorrelated"
   ]
  },
  {
   "cell_type": "code",
   "execution_count": 3,
   "metadata": {},
   "outputs": [],
   "source": [
    "path = \"/home/amarrero/Proyectos/CEC-2021-Parallel-GA-KNP/results/Preliminar/SpannerStronglyCorrelated/\"\n",
    "patterns = [\"SpannerStronglyCorrelated_N_50_R_100_0\", \"SpannerStronglyCorrelated_N_100_R_100_0\",\n",
    "                \"SpannerStronglyCorrelated_N_500_R_100_0\", \"SpannerStronglyCorrelated_N_1000_R_100_0\"]"
   ]
  },
  {
   "cell_type": "code",
   "execution_count": 10,
   "metadata": {},
   "outputs": [
    {
     "name": "stdout",
     "output_type": "stream",
     "text": [
      "Results of Instance = SpannerStronglyCorrelated_N_50_R_100_0\n",
      "                                          Average Objective  Average Elapsed Time (s)  Ratio Avg Objective / Avg Elapsed Time\n",
      "Configuration                                                                                                                \n",
      "SSGA_PopSize32_Evals1e6_MR005_CR_08_Seq              1134.1                  3.515523                            3.225978e+02\n",
      "SSGA_PopSize32_Evals1e6_MR01_CR_07_Seq               1125.8                  3.332350                            3.378397e+02\n",
      "SSGA_PopSize32_Evals1e6_MR01_CR_07_OMP4              1099.7                  2.153320                            5.106998e+02\n",
      "SSGA_PopSize32_Evals1e6_MR005_CR_08_OMP4             1095.5                  2.268271                            4.829670e+02\n",
      "SSGA_PopSize32_Evals1e6_MR005_CR_08_PSTL             1099.4                  2.252739                            4.880281e+02\n",
      "SSGA_PopSize32_Evals1e6_MR01_CR_07_PSTL              1094.8                  2.158015                            5.073181e+02\n",
      "Dynamic                                              1190.0                  0.000086                            1.391780e+07\n",
      "Results of Instance = SpannerStronglyCorrelated_N_100_R_100_0\n",
      "                                          Average Objective  Average Elapsed Time (s)  Ratio Avg Objective / Avg Elapsed Time\n",
      "Configuration                                                                                                                \n",
      "SSGA_PopSize32_Evals1e6_MR005_CR_08_PSTL             3013.5                  3.328282                            9.054220e+02\n",
      "SSGA_PopSize32_Evals1e6_MR005_CR_08_Seq              3025.0                  6.261220                            4.831327e+02\n",
      "SSGA_PopSize32_Evals1e6_MR005_CR_08_OMP4             3012.9                  3.351679                            8.989226e+02\n",
      "SSGA_PopSize32_Evals1e6_MR01_CR_07_PSTL              3013.1                  3.116928                            9.666891e+02\n",
      "SSGA_PopSize32_Evals1e6_MR01_CR_07_OMP4              3019.8                  3.116026                            9.691189e+02\n",
      "SSGA_PopSize32_Evals1e6_MR01_CR_07_Seq               3024.3                  5.705230                            5.300926e+02\n",
      "Dynamic                                              3045.0                  0.000511                            5.962264e+06\n",
      "Results of Instance = SpannerStronglyCorrelated_N_500_R_100_0\n",
      "                                          Average Objective  Average Elapsed Time (s)  Ratio Avg Objective / Avg Elapsed Time\n",
      "Configuration                                                                                                                \n",
      "SSGA_PopSize32_Evals1e6_MR005_CR_08_PSTL            12280.2                 11.859244                            1.035496e+03\n",
      "SSGA_PopSize32_Evals1e6_MR005_CR_08_OMP4            12291.7                 11.966356                            1.027188e+03\n",
      "SSGA_PopSize32_Evals1e6_MR005_CR_08_Seq             12446.1                 36.304843                            3.428220e+02\n",
      "SSGA_PopSize32_Evals1e6_MR01_CR_07_OMP4             12277.6                 10.849398                            1.131639e+03\n",
      "SSGA_PopSize32_Evals1e6_MR01_CR_07_PSTL             12265.2                 10.851928                            1.130232e+03\n",
      "SSGA_PopSize32_Evals1e6_MR01_CR_07_Seq              12415.3                 28.993434                            4.282107e+02\n",
      "Dynamic                                             13303.0                  0.010322                            1.288801e+06\n",
      "Results of Instance = SpannerStronglyCorrelated_N_1000_R_100_0\n",
      "                                          Average Objective  Average Elapsed Time (s)  Ratio Avg Objective / Avg Elapsed Time\n",
      "Configuration                                                                                                                \n",
      "SSGA_PopSize32_Evals1e6_MR01_CR_07_Seq              18910.2                 55.634769                              339.898956\n",
      "SSGA_PopSize32_Evals1e6_MR01_CR_07_PSTL             18737.7                 20.489081                              914.521267\n",
      "SSGA_PopSize32_Evals1e6_MR005_CR_08_Seq             18908.3                 70.722554                              267.358840\n",
      "SSGA_PopSize32_Evals1e6_MR005_CR_08_PSTL            18732.3                 22.458359                              834.090340\n",
      "SSGA_PopSize32_Evals1e6_MR01_CR_07_OMP4             18711.4                 20.698984                              903.976758\n",
      "SSGA_PopSize32_Evals1e6_MR005_CR_08_OMP4            18710.4                 22.736455                              822.925116\n",
      "Dynamic                                             20613.0                  0.029574                           696995.005765\n"
     ]
    }
   ],
   "source": [
    "for pattern in patterns:\n",
    "        df_results = parse_files(path, pattern)\n",
    "        print(f'Results of Instance = {pattern}\\n{df_results}\\n')"
   ]
  },
  {
   "cell_type": "code",
   "execution_count": null,
   "metadata": {},
   "outputs": [],
   "source": []
  },
  {
   "cell_type": "code",
   "execution_count": null,
   "metadata": {},
   "outputs": [],
   "source": []
  }
 ],
 "metadata": {
  "kernelspec": {
   "display_name": "Python 3",
   "language": "python",
   "name": "python3"
  },
  "language_info": {
   "codemirror_mode": {
    "name": "ipython",
    "version": 3
   },
   "file_extension": ".py",
   "mimetype": "text/x-python",
   "name": "python",
   "nbconvert_exporter": "python",
   "pygments_lexer": "ipython3",
   "version": "3.8.5"
  }
 },
 "nbformat": 4,
 "nbformat_minor": 4
}
