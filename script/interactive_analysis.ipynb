{
 "cells": [
  {
   "cell_type": "markdown",
   "metadata": {},
   "source": [
    "# Análisis de los resultados del estudio preliminar - CEC 2021\n"
   ]
  },
  {
   "cell_type": "code",
   "execution_count": 1,
   "metadata": {},
   "outputs": [],
   "source": [
    "from os import listdir\n",
    "import numpy as np\n",
    "import re\n",
    "import json\n",
    "from pprint import pprint as pp\n",
    "import matplotlib.pyplot as plt\n",
    "import pandas as pd\n",
    "from sklearn import preprocessing\n",
    "\n",
    "%matplotlib inline"
   ]
  },
  {
   "cell_type": "code",
   "execution_count": 2,
   "metadata": {},
   "outputs": [],
   "source": [
    "pd.set_option('display.max_rows', 500)\n",
    "pd.set_option('display.max_columns', 500)\n",
    "pd.set_option('display.width', 1000)"
   ]
  },
  {
   "cell_type": "code",
   "execution_count": 3,
   "metadata": {},
   "outputs": [],
   "source": [
    "DYNAMIC = 'Dynamic'\n",
    "DP = \".DP\"\n",
    "JSON = \".json\"\n",
    "DP_PATH = '/home/amarrero/Proyectos/CEC-2021-Parallel-GA-KNP/results/DynamicProgramming'\n",
    "GA_PATH = '/home/amarrero/Proyectos/CEC-2021-Parallel-GA-KNP/results/Preliminar/'\n",
    "DIFF = 'Avg. difference with optimal'\n",
    "RATIO = 'Ratio Avg Objective / Avg Elapsed Time'\n",
    "AVG_TIME = 'Average Elapsed Time (s)'\n",
    "AVG_OBJS = 'Average Objective'\n",
    "CONFIG = 'Configuration'"
   ]
  },
  {
   "cell_type": "code",
   "execution_count": 4,
   "metadata": {},
   "outputs": [],
   "source": [
    "def parse_files(path, pattern, verbose=True):\n",
    "    # Parseamos cada fichero de resultados\n",
    "    dp_file = f'{DP_PATH}/{pattern}{DP}'\n",
    "    optimal = 0\n",
    "    dp_time = 0\n",
    "    with open(dp_file) as file:\n",
    "        optimal = float(file.readline())\n",
    "        dp_time = float(file.readline())\n",
    "\n",
    "    dp_ratio = optimal / dp_time\n",
    "\n",
    "    inst_regex = rf'.*{pattern}\\.kp\\w+{JSON}'\n",
    "    configs = {}\n",
    "    for file in listdir(path):\n",
    "        # Buscamos todos los ficheros de resultados para la instancia concreta\n",
    "        if re.match(inst_regex, file):\n",
    "            key = file[:file.find('Inst') - 1]\n",
    "            group = configs.get(key, [])\n",
    "            with open(f'{path}/{file}') as f:\n",
    "                j_file = json.load(f)\n",
    "            objectives = j_file['Results']['Objectives']\n",
    "            elapsed_time = j_file['Name']['Elapsed Time']\n",
    "            # Nos quedamos con el mejor resultado obtenido\n",
    "            group.append((max(objectives), elapsed_time))\n",
    "            configs[key] = group\n",
    "\n",
    "    results = {}\n",
    "    for key in configs:\n",
    "        avg = np.average(configs[key], axis=0)\n",
    "        diff_with_optimal = optimal - avg[0]\n",
    "        results[key] = [avg[0], avg[1], diff_with_optimal]\n",
    "\n",
    "    results[DYNAMIC] = [optimal, dp_time, dp_ratio]\n",
    "    df = pd.DataFrame.from_dict(results, orient='index',\n",
    "                                columns=[AVG_OBJS, AVG_TIME, DIFF])\n",
    "    df.index.name = CONFIG\n",
    "    return df\n",
    "\n",
    "\n",
    "def to_plot(results, title):\n",
    "    min_max_scaler = preprocessing.MinMaxScaler()\n",
    "    ratio_scaled = min_max_scaler.fit_transform(results[[RATIO]])\n",
    "    results['norm_ratio'] = ratio_scaled\n",
    "    results.plot(kind='bar', y='norm_ratio')\n"
   ]
  },
  {
   "cell_type": "code",
   "execution_count": 5,
   "metadata": {},
   "outputs": [],
   "source": [
    "def run_analysis(path, patterns):\n",
    "    for pattern in patterns:\n",
    "        df_results = parse_files(path, pattern)\n",
    "        df_results_sorted = df_results.sort_values(by=['Average Objective'], ascending=False)\n",
    "        print(f'\\nResults of Instance = {pattern}\\n')\n",
    "        print(df_results_sorted.head(3))\n",
    "        for i in range(1, 3):\n",
    "            print(f'\\n-Key = {df_results_sorted.index[i]}')"
   ]
  },
  {
   "cell_type": "markdown",
   "metadata": {},
   "source": [
    "## SpannerStronglyCorrelated"
   ]
  },
  {
   "cell_type": "code",
   "execution_count": 6,
   "metadata": {},
   "outputs": [],
   "source": [
    "path = \"/home/amarrero/Proyectos/CEC-2021-Parallel-GA-KNP/results/Preliminar/SpannerStronglyCorrelated/\"\n",
    "patterns = [\"SpannerStronglyCorrelated_N_50_R_100_0\", \"SpannerStronglyCorrelated_N_100_R_100_0\",\n",
    "                \"SpannerStronglyCorrelated_N_500_R_100_0\", \"SpannerStronglyCorrelated_N_1000_R_100_0\"]"
   ]
  },
  {
   "cell_type": "code",
   "execution_count": 7,
   "metadata": {},
   "outputs": [
    {
     "name": "stdout",
     "output_type": "stream",
     "text": [
      "\n",
      "Results of Instance = SpannerStronglyCorrelated_N_50_R_100_0\n",
      "\n",
      "                                                    Average Objective  Average Elapsed Time (s)  Avg. difference with optimal\n",
      "Configuration                                                                                                                \n",
<<<<<<< HEAD
      "SSGA_PopSize32_Evals250K_MR005_CR_08_OMP             1130.6                  1.623262                            6.964989e+02\n",
      "SSGA_PopSize32_Evals250K_MR01_CR_07_OMP              1125.3                  1.448941                            7.766362e+02\n",
      "SSGA_PopSize32_Evals250K_MR005_CR_08_Seq             1125.4                  1.610384                            6.988397e+02\n",
      "SSGA_PopSize32_Evals250K_MR01_CR_07_Seq              1136.3                  1.465133                            7.755608e+02\n",
      "Dynamic                                              1190.0                  0.000086                            1.391780e+07\n",
=======
      "Dynamic                                                        1190.0                  0.000086                  1.391780e+07\n",
      "One-vs-OneGA_PopSize32_Evals250K_MR0.050000_CR_...             1110.7                  1.059751                  7.930000e+01\n",
      "One-vs-OneGA_PopSize32_Evals250K_MR0.100000_CR_...             1110.1                  1.114750                  7.990000e+01\n",
      "\n",
      "-Key = One-vs-OneGA_PopSize32_Evals250K_MR0.050000_CR_0.800000_OMP\n",
      "\n",
      "-Key = One-vs-OneGA_PopSize32_Evals250K_MR0.100000_CR_0.700000_OMP\n",
>>>>>>> 0a98cb9ee84635d040e9efb9620acaa9c7e51ba2
      "\n",
      "Results of Instance = SpannerStronglyCorrelated_N_100_R_100_0\n",
      "\n",
      "                                                    Average Objective  Average Elapsed Time (s)  Avg. difference with optimal\n",
      "Configuration                                                                                                                \n",
<<<<<<< HEAD
      "SSGA_PopSize32_Evals250K_MR005_CR_08_OMP             3026.2                  2.535196                            1.193675e+03\n",
      "SSGA_PopSize32_Evals250K_MR01_CR_07_OMP              3024.0                  2.440993                            1.238840e+03\n",
      "SSGA_PopSize32_Evals250K_MR01_CR_07_Seq              3024.0                  2.586815                            1.169005e+03\n",
      "SSGA_PopSize32_Evals250K_MR005_CR_08_Seq             3024.4                  2.831021                            1.068307e+03\n",
      "Dynamic                                              3045.0                  0.000511                            5.962264e+06\n",
=======
      "Dynamic                                                        3045.0                  0.000511                  5.962264e+06\n",
      "SSGA_PopSize32_Evals250K_MR0.100000_CR_0.700000...             3023.8                  1.683692                  2.120000e+01\n",
      "One-vs-OneGA_PopSize32_Evals250K_MR0.050000_CR_...             3022.5                  1.577508                  2.250000e+01\n",
      "\n",
      "-Key = SSGA_PopSize32_Evals250K_MR0.100000_CR_0.700000_SEQ\n",
      "\n",
      "-Key = One-vs-OneGA_PopSize32_Evals250K_MR0.050000_CR_0.800000_SEQ\n",
>>>>>>> 0a98cb9ee84635d040e9efb9620acaa9c7e51ba2
      "\n",
      "Results of Instance = SpannerStronglyCorrelated_N_500_R_100_0\n",
      "\n",
      "                                                    Average Objective  Average Elapsed Time (s)  Avg. difference with optimal\n",
      "Configuration                                                                                                                \n",
<<<<<<< HEAD
      "SSGA_PopSize32_Evals250K_MR01_CR_07_OMP             12416.2                 13.315719                            9.324468e+02\n",
      "SSGA_PopSize32_Evals250K_MR005_CR_08_OMP            12443.1                 13.160358                            9.454986e+02\n",
      "SSGA_PopSize32_Evals250K_MR01_CR_07_Seq             12420.6                 13.317143                            9.326776e+02\n",
      "SSGA_PopSize32_Evals250K_MR005_CR_08_Seq            12395.9                 16.397984                            7.559405e+02\n",
      "Dynamic                                             13303.0                  0.010322                            1.288801e+06\n",
=======
      "Dynamic                                                       13303.0                  0.010322                  1.288801e+06\n",
      "One-vs-OneGA_PopSize32_Evals250K_MR0.050000_CR_...            12336.6                  6.922706                  9.664000e+02\n",
      "SSGA_PopSize32_Evals250K_MR0.100000_CR_0.700000...            12323.4                  8.215307                  9.796000e+02\n",
      "\n",
      "-Key = One-vs-OneGA_PopSize32_Evals250K_MR0.050000_CR_0.800000_OMP\n",
      "\n",
      "-Key = SSGA_PopSize32_Evals250K_MR0.100000_CR_0.700000_OMP\n",
>>>>>>> 0a98cb9ee84635d040e9efb9620acaa9c7e51ba2
      "\n",
      "Results of Instance = SpannerStronglyCorrelated_N_1000_R_100_0\n",
      "\n",
      "                                                    Average Objective  Average Elapsed Time (s)  Avg. difference with optimal\n",
      "Configuration                                                                                                                \n",
<<<<<<< HEAD
      "SSGA_PopSize32_Evals250K_MR005_CR_08_OMP            18900.0                 29.073160                              650.084123\n",
      "SSGA_PopSize32_Evals250K_MR005_CR_08_Seq            18927.9                 30.402902                              622.568859\n",
      "SSGA_PopSize32_Evals250K_MR01_CR_07_Seq             18905.6                 26.942684                              701.696974\n",
      "SSGA_PopSize32_Evals250K_MR01_CR_07_OMP             18883.6                 24.516606                              770.237132\n",
      "Dynamic                                             20613.0                  0.029574                           696995.005765\n",
      "\n"
=======
      "Dynamic                                                       20613.0                  0.029574                 696995.005765\n",
      "One-vs-OneGA_PopSize32_Evals250K_MR0.050000_CR_...            18855.7                 13.417041                   1757.300000\n",
      "SSGA_PopSize32_Evals250K_MR0.050000_CR_0.800000...            18820.5                 13.427246                   1792.500000\n",
      "\n",
      "-Key = One-vs-OneGA_PopSize32_Evals250K_MR0.050000_CR_0.800000_SEQ\n",
      "\n",
      "-Key = SSGA_PopSize32_Evals250K_MR0.050000_CR_0.800000_OMP\n"
>>>>>>> 0a98cb9ee84635d040e9efb9620acaa9c7e51ba2
     ]
    }
   ],
   "source": [
    "run_analysis(path, patterns)"
   ]
  },
  {
   "cell_type": "markdown",
   "metadata": {},
   "source": [
    "## InverseCorrelated"
   ]
  },
  {
   "cell_type": "code",
   "execution_count": 8,
   "metadata": {},
   "outputs": [
    {
     "name": "stdout",
     "output_type": "stream",
     "text": [
      "\n",
      "Results of Instance = InverseCorrelated_N_50_R_100_0\n",
      "\n",
      "                                                    Average Objective  Average Elapsed Time (s)  Avg. difference with optimal\n",
      "Configuration                                                                                                                \n",
<<<<<<< HEAD
      "SSGA_PopSize32_Evals250K_MR005_CR_08_OMP             1372.9                  1.442801                            9.515520e+02\n",
      "SSGA_PopSize32_Evals250K_MR005_CR_08_Seq             1371.5                  1.403914                            9.769117e+02\n",
      "SSGA_PopSize32_Evals250K_MR01_CR_07_OMP              1369.6                  1.313184                            1.042961e+03\n",
      "SSGA_PopSize32_Evals250K_MR01_CR_07_Seq              1367.3                  1.331742                            1.026700e+03\n",
      "Dynamic                                              1425.0                  0.000298                            4.780291e+06\n",
=======
      "Dynamic                                                        1425.0                  0.000298                  4.780291e+06\n",
      "SSGA_PopSize32_Evals250K_MR0.100000_CR_0.700000...             1356.6                  1.077318                  6.840000e+01\n",
      "SSGA_PopSize32_Evals250K_MR0.050000_CR_0.800000...             1352.9                  1.025531                  7.210000e+01\n",
      "\n",
      "-Key = SSGA_PopSize32_Evals250K_MR0.100000_CR_0.700000_OMP\n",
      "\n",
      "-Key = SSGA_PopSize32_Evals250K_MR0.050000_CR_0.800000_OMP\n",
>>>>>>> 0a98cb9ee84635d040e9efb9620acaa9c7e51ba2
      "\n",
      "Results of Instance = InverseCorrelated_N_100_R_100_0\n",
      "\n",
      "                                                    Average Objective  Average Elapsed Time (s)  Avg. difference with optimal\n",
      "Configuration                                                                                                                \n",
<<<<<<< HEAD
      "SSGA_PopSize32_Evals250K_MR005_CR_08_OMP             2584.1                  2.369010                            1.090793e+03\n",
      "SSGA_PopSize32_Evals250K_MR01_CR_07_OMP              2570.9                  2.185102                            1.176558e+03\n",
      "SSGA_PopSize32_Evals250K_MR01_CR_07_Seq              2574.7                  2.222571                            1.158433e+03\n",
      "SSGA_PopSize32_Evals250K_MR005_CR_08_Seq             2577.4                  2.377025                            1.084297e+03\n",
      "Dynamic                                              2703.0                  0.000658                            4.106049e+06\n",
=======
      "Dynamic                                                        2703.0                  0.000658                  4.106049e+06\n",
      "One-vs-OneGA_PopSize32_Evals250K_MR0.100000_CR_...             2554.2                  1.652046                  1.488000e+02\n",
      "One-vs-OneGA_PopSize32_Evals250K_MR0.050000_CR_...             2553.5                  1.580606                  1.495000e+02\n",
      "\n",
      "-Key = One-vs-OneGA_PopSize32_Evals250K_MR0.100000_CR_0.700000_OMP\n",
      "\n",
      "-Key = One-vs-OneGA_PopSize32_Evals250K_MR0.050000_CR_0.800000_OMP\n",
>>>>>>> 0a98cb9ee84635d040e9efb9620acaa9c7e51ba2
      "\n",
      "Results of Instance = InverseCorrelated_N_500_R_100_0\n",
      "\n",
      "                                                    Average Objective  Average Elapsed Time (s)  Avg. difference with optimal\n",
      "Configuration                                                                                                                \n",
<<<<<<< HEAD
      "SSGA_PopSize32_Evals250K_MR01_CR_07_Seq             12556.1                 10.554185                             1189.679735\n",
      "SSGA_PopSize32_Evals250K_MR005_CR_08_Seq            12593.6                 13.271350                              948.931344\n",
      "SSGA_PopSize32_Evals250K_MR01_CR_07_OMP             12594.8                 10.355752                             1216.213011\n",
      "SSGA_PopSize32_Evals250K_MR005_CR_08_OMP            12594.8                 12.761580                              986.931076\n",
      "Dynamic                                             13316.0                  0.017057                           780653.671406\n",
=======
      "Dynamic                                                       13316.0                  0.017057                 780653.671406\n",
      "One-vs-OneGA_PopSize32_Evals250K_MR0.100000_CR_...            12514.6                  7.195758                    801.400000\n",
      "SSGA_PopSize32_Evals250K_MR0.050000_CR_0.800000...            12504.1                  6.579092                    811.900000\n",
      "\n",
      "-Key = One-vs-OneGA_PopSize32_Evals250K_MR0.100000_CR_0.700000_OMP\n",
      "\n",
      "-Key = SSGA_PopSize32_Evals250K_MR0.050000_CR_0.800000_SEQ\n",
>>>>>>> 0a98cb9ee84635d040e9efb9620acaa9c7e51ba2
      "\n",
      "Results of Instance = InverseCorrelated_N_1000_R_100_0\n",
      "\n",
      "                                                    Average Objective  Average Elapsed Time (s)  Avg. difference with optimal\n",
      "Configuration                                                                                                                \n",
<<<<<<< HEAD
      "SSGA_PopSize32_Evals250K_MR005_CR_08_Seq            25214.6                 27.533265                              915.786761\n",
      "SSGA_PopSize32_Evals250K_MR01_CR_07_Seq             25184.0                 24.931011                             1010.147561\n",
      "SSGA_PopSize32_Evals250K_MR005_CR_08_OMP            25203.6                 26.628785                              946.479521\n",
      "SSGA_PopSize32_Evals250K_MR01_CR_07_OMP             25187.1                 23.314668                             1080.311333\n",
      "Dynamic                                             26816.0                  0.088792                           302009.870281\n",
      "\n"
=======
      "Dynamic                                                       26816.0                  0.088792                 302009.870281\n",
      "One-vs-OneGA_PopSize32_Evals250K_MR0.050000_CR_...            25081.1                 13.087549                   1734.900000\n",
      "SSGA_PopSize32_Evals250K_MR0.100000_CR_0.700000...            25080.9                 13.774462                   1735.100000\n",
      "\n",
      "-Key = One-vs-OneGA_PopSize32_Evals250K_MR0.050000_CR_0.800000_OMP\n",
      "\n",
      "-Key = SSGA_PopSize32_Evals250K_MR0.100000_CR_0.700000_SEQ\n"
>>>>>>> 0a98cb9ee84635d040e9efb9620acaa9c7e51ba2
     ]
    }
   ],
   "source": [
    "path = \"/home/amarrero/Proyectos/CEC-2021-Parallel-GA-KNP/results/Preliminar/InverseCorrelated/\"\n",
    "patterns = [\"InverseCorrelated_N_50_R_100_0\", \"InverseCorrelated_N_100_R_100_0\",\n",
    "                \"InverseCorrelated_N_500_R_100_0\", \"InverseCorrelated_N_1000_R_100_0\"]\n",
    "run_analysis(path, patterns)"
   ]
  },
  {
   "cell_type": "markdown",
   "metadata": {},
   "source": [
    "## StronglyCorrelated"
   ]
  },
  {
   "cell_type": "code",
   "execution_count": 9,
   "metadata": {},
   "outputs": [
    {
     "name": "stdout",
     "output_type": "stream",
     "text": [
      "\n",
      "Results of Instance = StronglyCorrelated_N_50_R_100_0\n",
      "\n",
      "                                                    Average Objective  Average Elapsed Time (s)  Avg. difference with optimal\n",
      "Configuration                                                                                                                \n",
<<<<<<< HEAD
      "SSGA_PopSize32_Evals250K_MR01_CR_07_Seq              1602.3                  1.477394                            1.084545e+03\n",
      "SSGA_PopSize32_Evals250K_MR005_CR_08_OMP             1621.6                  1.590787                            1.019370e+03\n",
      "SSGA_PopSize32_Evals250K_MR01_CR_07_OMP              1613.6                  1.417182                            1.138597e+03\n",
      "SSGA_PopSize32_Evals250K_MR005_CR_08_Seq             1619.4                  1.529506                            1.058773e+03\n",
      "Dynamic                                              1675.0                  0.000126                            1.328522e+07\n",
=======
      "Dynamic                                                        1675.0                  0.000126                  1.328522e+07\n",
      "SSGA_PopSize32_Evals250K_MR0.100000_CR_0.700000...             1606.1                  1.109571                  6.890000e+01\n",
      "SSGA_PopSize32_Evals250K_MR0.050000_CR_0.800000...             1604.1                  1.063106                  7.090000e+01\n",
      "\n",
      "-Key = SSGA_PopSize32_Evals250K_MR0.100000_CR_0.700000_SEQ\n",
      "\n",
      "-Key = SSGA_PopSize32_Evals250K_MR0.050000_CR_0.800000_OMP\n",
>>>>>>> 0a98cb9ee84635d040e9efb9620acaa9c7e51ba2
      "\n",
      "Results of Instance = StronglyCorrelated_N_100_R_100_0\n",
      "\n",
      "                                                    Average Objective  Average Elapsed Time (s)  Avg. difference with optimal\n",
      "Configuration                                                                                                                \n",
<<<<<<< HEAD
      "SSGA_PopSize32_Evals250K_MR01_CR_07_Seq              3060.0                  2.685343                            1.139519e+03\n",
      "SSGA_PopSize32_Evals250K_MR01_CR_07_OMP              3062.5                  2.522138                            1.214248e+03\n",
      "SSGA_PopSize32_Evals250K_MR005_CR_08_OMP             3074.5                  2.760169                            1.113881e+03\n",
      "SSGA_PopSize32_Evals250K_MR005_CR_08_Seq             3072.8                  2.762205                            1.112445e+03\n",
      "Dynamic                                              3223.0                  0.000499                            6.456641e+06\n",
=======
      "Dynamic                                                        3223.0                  0.000499                  6.456641e+06\n",
      "SSGA_PopSize32_Evals250K_MR0.100000_CR_0.700000...             3056.3                  1.756789                  1.667000e+02\n",
      "SSGA_PopSize32_Evals250K_MR0.050000_CR_0.800000...             3052.3                  1.608425                  1.707000e+02\n",
      "\n",
      "-Key = SSGA_PopSize32_Evals250K_MR0.100000_CR_0.700000_SEQ\n",
      "\n",
      "-Key = SSGA_PopSize32_Evals250K_MR0.050000_CR_0.800000_SEQ\n",
>>>>>>> 0a98cb9ee84635d040e9efb9620acaa9c7e51ba2
      "\n",
      "Results of Instance = StronglyCorrelated_N_500_R_100_0\n",
      "\n",
      "                                                    Average Objective  Average Elapsed Time (s)  Avg. difference with optimal\n",
      "Configuration                                                                                                                \n",
<<<<<<< HEAD
      "SSGA_PopSize32_Evals250K_MR005_CR_08_OMP            15053.0                 16.093733                            9.353330e+02\n",
      "SSGA_PopSize32_Evals250K_MR01_CR_07_OMP             15044.0                 13.670606                            1.100463e+03\n",
      "SSGA_PopSize32_Evals250K_MR01_CR_07_Seq             15024.0                 15.023060                            1.000063e+03\n",
      "SSGA_PopSize32_Evals250K_MR005_CR_08_Seq            15054.0                 16.121749                            9.337696e+02\n",
      "Dynamic                                             15946.0                  0.012468                            1.278995e+06\n",
=======
      "Dynamic                                                       15946.0                  0.012468                  1.278995e+06\n",
      "One-vs-OneGA_PopSize32_Evals250K_MR0.100000_CR_...            14993.4                  8.343199                  9.526000e+02\n",
      "One-vs-OneGA_PopSize32_Evals250K_MR0.050000_CR_...            14982.6                  7.221000                  9.634000e+02\n",
      "\n",
      "-Key = One-vs-OneGA_PopSize32_Evals250K_MR0.100000_CR_0.700000_OMP\n",
      "\n",
      "-Key = One-vs-OneGA_PopSize32_Evals250K_MR0.050000_CR_0.800000_SEQ\n",
>>>>>>> 0a98cb9ee84635d040e9efb9620acaa9c7e51ba2
      "\n",
      "Results of Instance = StronglyCorrelated_N_1000_R_100_0\n",
      "\n",
      "                                                    Average Objective  Average Elapsed Time (s)  Avg. difference with optimal\n",
      "Configuration                                                                                                                \n",
<<<<<<< HEAD
      "SSGA_PopSize32_Evals250K_MR005_CR_08_OMP            30093.0                 37.677396                              798.701698\n",
      "SSGA_PopSize32_Evals250K_MR005_CR_08_Seq            30115.0                 41.094481                              732.823461\n",
      "SSGA_PopSize32_Evals250K_MR01_CR_07_Seq             30080.0                 35.739558                              841.644421\n",
      "SSGA_PopSize32_Evals250K_MR01_CR_07_OMP             30072.0                 33.138959                              907.451571\n",
      "Dynamic                                             32076.0                  0.086599                           370397.742232\n",
      "\n"
=======
      "Dynamic                                                       32076.0                  0.086599                 370397.742232\n",
      "One-vs-OneGA_PopSize32_Evals250K_MR0.050000_CR_...            30062.6                 14.541742                   2013.400000\n",
      "One-vs-OneGA_PopSize32_Evals250K_MR0.100000_CR_...            30043.2                 17.812451                   2032.800000\n",
      "\n",
      "-Key = One-vs-OneGA_PopSize32_Evals250K_MR0.050000_CR_0.800000_SEQ\n",
      "\n",
      "-Key = One-vs-OneGA_PopSize32_Evals250K_MR0.100000_CR_0.700000_OMP\n"
>>>>>>> 0a98cb9ee84635d040e9efb9620acaa9c7e51ba2
     ]
    }
   ],
   "source": [
    "path = \"/home/amarrero/Proyectos/CEC-2021-Parallel-GA-KNP/results/Preliminar/StronglyCorrelated/\"\n",
    "patterns = [\"StronglyCorrelated_N_50_R_100_0\", \"StronglyCorrelated_N_100_R_100_0\",\n",
    "                \"StronglyCorrelated_N_500_R_100_0\", \"StronglyCorrelated_N_1000_R_100_0\"]\n",
    "run_analysis(path, patterns)"
   ]
  },
  {
   "cell_type": "markdown",
   "metadata": {},
   "source": [
    "## SubsetSum"
   ]
  },
  {
   "cell_type": "code",
   "execution_count": 10,
   "metadata": {},
   "outputs": [
    {
     "name": "stdout",
     "output_type": "stream",
     "text": [
      "\n",
      "Results of Instance = SubsetSum_N_50_R_100_0\n",
      "\n",
      "                                                    Average Objective  Average Elapsed Time (s)  Avg. difference with optimal\n",
      "Configuration                                                                                                                \n",
<<<<<<< HEAD
      "SSGA_PopSize32_Evals250K_MR005_CR_08_Seq             1344.8                  1.621472                            8.293701e+02\n",
      "SSGA_PopSize32_Evals250K_MR005_CR_08_OMP             1344.9                  1.645411                            8.173640e+02\n",
      "SSGA_PopSize32_Evals250K_MR01_CR_07_OMP              1344.9                  1.436874                            9.359903e+02\n",
      "SSGA_PopSize32_Evals250K_MR01_CR_07_Seq              1345.0                  1.489773                            9.028220e+02\n",
      "Dynamic                                              1345.0                  0.000246                            5.463127e+06\n",
=======
      "Dynamic                                                        1345.0                  0.000246                  5.463127e+06\n",
      "SSGA_PopSize32_Evals250K_MR0.100000_CR_0.700000...             1344.4                  1.084713                  6.000000e-01\n",
      "One-vs-OneGA_PopSize32_Evals250K_MR0.050000_CR_...             1343.9                  1.027785                  1.100000e+00\n",
      "\n",
      "-Key = SSGA_PopSize32_Evals250K_MR0.100000_CR_0.700000_SEQ\n",
      "\n",
      "-Key = One-vs-OneGA_PopSize32_Evals250K_MR0.050000_CR_0.800000_SEQ\n",
>>>>>>> 0a98cb9ee84635d040e9efb9620acaa9c7e51ba2
      "\n",
      "Results of Instance = SubsetSum_N_100_R_100_0\n",
      "\n",
      "                                                    Average Objective  Average Elapsed Time (s)  Avg. difference with optimal\n",
      "Configuration                                                                                                                \n",
<<<<<<< HEAD
      "SSGA_PopSize32_Evals250K_MR005_CR_08_OMP             2533.0                  3.117615                            8.124800e+02\n",
      "SSGA_PopSize32_Evals250K_MR01_CR_07_Seq              2532.9                  3.000342                            8.442038e+02\n",
      "SSGA_PopSize32_Evals250K_MR005_CR_08_Seq             2533.0                  3.134195                            8.081821e+02\n",
      "SSGA_PopSize32_Evals250K_MR01_CR_07_OMP              2533.0                  2.717286                            9.321801e+02\n",
      "Dynamic                                              2533.0                  0.000927                            2.732149e+06\n",
=======
      "Dynamic                                                        2533.0                  0.000927                  2.732149e+06\n",
      "One-vs-OneGA_PopSize32_Evals250K_MR0.100000_CR_...             2532.6                  1.709145                  4.000000e-01\n",
      "SSGA_PopSize32_Evals250K_MR0.100000_CR_0.700000...             2532.6                  1.753174                  4.000000e-01\n",
      "\n",
      "-Key = One-vs-OneGA_PopSize32_Evals250K_MR0.100000_CR_0.700000_SEQ\n",
      "\n",
      "-Key = SSGA_PopSize32_Evals250K_MR0.100000_CR_0.700000_OMP\n",
>>>>>>> 0a98cb9ee84635d040e9efb9620acaa9c7e51ba2
      "\n",
      "Results of Instance = SubsetSum_N_500_R_100_0\n",
      "\n",
      "                                                    Average Objective  Average Elapsed Time (s)  Avg. difference with optimal\n",
      "Configuration                                                                                                                \n",
<<<<<<< HEAD
      "SSGA_PopSize32_Evals250K_MR005_CR_08_OMP            12446.0                 20.487800                              607.483478\n",
      "SSGA_PopSize32_Evals250K_MR005_CR_08_Seq            12446.0                 21.160152                              588.181035\n",
      "SSGA_PopSize32_Evals250K_MR01_CR_07_Seq             12446.0                 15.751644                              790.139768\n",
      "SSGA_PopSize32_Evals250K_MR01_CR_07_OMP             12446.0                 15.084332                              825.094565\n",
      "Dynamic                                             12446.0                  0.025158                           494705.545663\n",
=======
      "Dynamic                                                       12446.0                  0.025158                 494705.545663\n",
      "One-vs-OneGA_PopSize32_Evals250K_MR0.100000_CR_...            12445.6                  8.025613                      0.400000\n",
      "One-vs-OneGA_PopSize32_Evals250K_MR0.100000_CR_...            12445.6                  7.711860                      0.400000\n",
      "\n",
      "-Key = One-vs-OneGA_PopSize32_Evals250K_MR0.100000_CR_0.700000_OMP\n",
      "\n",
      "-Key = One-vs-OneGA_PopSize32_Evals250K_MR0.100000_CR_0.700000_SEQ\n",
>>>>>>> 0a98cb9ee84635d040e9efb9620acaa9c7e51ba2
      "\n",
      "Results of Instance = SubsetSum_N_1000_R_100_0\n",
      "\n",
      "                                                    Average Objective  Average Elapsed Time (s)  Avg. difference with optimal\n",
      "Configuration                                                                                                                \n",
<<<<<<< HEAD
      "SSGA_PopSize32_Evals250K_MR005_CR_08_OMP            24976.0                 66.239279                              377.057247\n",
      "SSGA_PopSize32_Evals250K_MR005_CR_08_Seq            24976.0                 65.087729                              383.728244\n",
      "SSGA_PopSize32_Evals250K_MR01_CR_07_Seq             24976.0                 44.710935                              558.610546\n",
      "SSGA_PopSize32_Evals250K_MR01_CR_07_OMP             24976.0                 48.288389                              517.225790\n",
      "Dynamic                                             24976.0                  0.091052                           274304.792866\n",
      "\n"
=======
      "Dynamic                                                       24976.0                  0.091052                 274304.792866\n",
      "SSGA_PopSize32_Evals250K_MR0.100000_CR_0.700000...            24975.7                 16.470436                      0.300000\n",
      "One-vs-OneGA_PopSize32_Evals250K_MR0.100000_CR_...            24975.6                 16.639887                      0.400000\n",
      "\n",
      "-Key = SSGA_PopSize32_Evals250K_MR0.100000_CR_0.700000_SEQ\n",
      "\n",
      "-Key = One-vs-OneGA_PopSize32_Evals250K_MR0.100000_CR_0.700000_SEQ\n"
>>>>>>> 0a98cb9ee84635d040e9efb9620acaa9c7e51ba2
     ]
    }
   ],
   "source": [
    "path = \"/home/amarrero/Proyectos/CEC-2021-Parallel-GA-KNP/results/Preliminar/SubsetSum/\"\n",
    "patterns = [\"SubsetSum_N_50_R_100_0\", \"SubsetSum_N_100_R_100_0\",\n",
    "                \"SubsetSum_N_500_R_100_0\", \"SubsetSum_N_1000_R_100_0\"]\n",
    "run_analysis(path, patterns)"
   ]
  },
  {
   "cell_type": "markdown",
   "metadata": {},
   "source": [
    "## Uncorrelated"
   ]
  },
  {
   "cell_type": "code",
   "execution_count": 11,
   "metadata": {},
   "outputs": [
    {
     "name": "stdout",
     "output_type": "stream",
     "text": [
      "\n",
      "Results of Instance = Uncorrelated_N_50_R_100_0\n",
      "\n",
      "                                                    Average Objective  Average Elapsed Time (s)  Avg. difference with optimal\n",
      "Configuration                                                                                                                \n",
<<<<<<< HEAD
      "SSGA_PopSize32_Evals250K_MR01_CR_07_OMP              1781.7                  1.345237                            1.324450e+03\n",
      "SSGA_PopSize32_Evals250K_MR005_CR_08_OMP             1860.4                  1.499203                            1.240926e+03\n",
      "SSGA_PopSize32_Evals250K_MR005_CR_08_Seq             1833.4                  1.432965                            1.279445e+03\n",
      "SSGA_PopSize32_Evals250K_MR01_CR_07_Seq              1809.1                  1.358257                            1.331928e+03\n",
      "Dynamic                                              1969.0                  0.000236                            8.340040e+06\n",
=======
      "Dynamic                                                        1969.0                  0.000236                  8.340040e+06\n",
      "SSGA_PopSize32_Evals250K_MR0.050000_CR_0.800000...             1617.4                  1.031011                  3.516000e+02\n",
      "One-vs-OneGA_PopSize32_Evals250K_MR0.100000_CR_...             1593.0                  1.102693                  3.760000e+02\n",
      "\n",
      "-Key = SSGA_PopSize32_Evals250K_MR0.050000_CR_0.800000_SEQ\n",
      "\n",
      "-Key = One-vs-OneGA_PopSize32_Evals250K_MR0.100000_CR_0.700000_OMP\n",
>>>>>>> 0a98cb9ee84635d040e9efb9620acaa9c7e51ba2
      "\n",
      "Results of Instance = Uncorrelated_N_100_R_100_0\n",
      "\n",
      "                                                    Average Objective  Average Elapsed Time (s)  Avg. difference with optimal\n",
      "Configuration                                                                                                                \n",
<<<<<<< HEAD
      "SSGA_PopSize32_Evals250K_MR01_CR_07_Seq              3301.1                  2.307115                            1.430834e+03\n",
      "SSGA_PopSize32_Evals250K_MR01_CR_07_OMP              3305.9                  2.235155                            1.479047e+03\n",
      "SSGA_PopSize32_Evals250K_MR005_CR_08_Seq             3418.8                  2.444660                            1.398477e+03\n",
      "SSGA_PopSize32_Evals250K_MR005_CR_08_OMP             3452.9                  2.474442                            1.395426e+03\n",
      "Dynamic                                              3832.0                  0.000863                            4.439604e+06\n",
=======
      "Dynamic                                                        3832.0                  0.000863                  4.439604e+06\n",
      "SSGA_PopSize32_Evals250K_MR0.050000_CR_0.800000...             2859.4                  1.582269                  9.726000e+02\n",
      "SSGA_PopSize32_Evals250K_MR0.100000_CR_0.700000...             2837.1                  1.710238                  9.949000e+02\n",
      "\n",
      "-Key = SSGA_PopSize32_Evals250K_MR0.050000_CR_0.800000_SEQ\n",
      "\n",
      "-Key = SSGA_PopSize32_Evals250K_MR0.100000_CR_0.700000_SEQ\n",
>>>>>>> 0a98cb9ee84635d040e9efb9620acaa9c7e51ba2
      "\n",
      "Results of Instance = Uncorrelated_N_500_R_100_0\n",
      "\n",
      "                                                    Average Objective  Average Elapsed Time (s)  Avg. difference with optimal\n",
      "Configuration                                                                                                                \n",
<<<<<<< HEAD
      "SSGA_PopSize32_Evals250K_MR01_CR_07_OMP             15138.6                 12.067452                             1254.498467\n",
      "SSGA_PopSize32_Evals250K_MR01_CR_07_Seq             15596.5                 12.801265                             1218.356148\n",
      "SSGA_PopSize32_Evals250K_MR005_CR_08_Seq            15595.3                 14.182178                             1099.640680\n",
      "SSGA_PopSize32_Evals250K_MR005_CR_08_OMP            16107.5                 13.414007                             1200.797052\n",
      "Dynamic                                             20718.0                  0.023078                           897730.325589\n",
=======
      "Dynamic                                                       20718.0                  0.023078                 897730.325589\n",
      "SSGA_PopSize32_Evals250K_MR0.050000_CR_0.800000...            13866.6                  6.953649                   6851.400000\n",
      "One-vs-OneGA_PopSize32_Evals250K_MR0.100000_CR_...            13703.5                  8.137082                   7014.500000\n",
      "\n",
      "-Key = SSGA_PopSize32_Evals250K_MR0.050000_CR_0.800000_SEQ\n",
      "\n",
      "-Key = One-vs-OneGA_PopSize32_Evals250K_MR0.100000_CR_0.700000_OMP\n",
>>>>>>> 0a98cb9ee84635d040e9efb9620acaa9c7e51ba2
      "\n",
      "Results of Instance = Uncorrelated_N_1000_R_100_0\n",
      "\n",
      "                                                    Average Objective  Average Elapsed Time (s)  Avg. difference with optimal\n",
      "Configuration                                                                                                                \n",
<<<<<<< HEAD
      "SSGA_PopSize32_Evals250K_MR01_CR_07_OMP             29609.0                 28.146494                             1051.960489\n",
      "SSGA_PopSize32_Evals250K_MR005_CR_08_Seq            29545.8                 33.570067                              880.123356\n",
      "SSGA_PopSize32_Evals250K_MR005_CR_08_OMP            29774.6                 31.418790                              947.668572\n",
      "SSGA_PopSize32_Evals250K_MR01_CR_07_Seq             29265.0                 31.245502                              936.614820\n",
      "Dynamic                                             41175.0                  0.090231                           456331.284876\n",
      "\n"
=======
      "Dynamic                                                       41175.0                  0.090231                 456331.284876\n",
      "SSGA_PopSize32_Evals250K_MR0.050000_CR_0.800000...            27244.3                 14.507796                  13930.700000\n",
      "SSGA_PopSize32_Evals250K_MR0.050000_CR_0.800000...            27163.4                 14.235381                  14011.600000\n",
      "\n",
      "-Key = SSGA_PopSize32_Evals250K_MR0.050000_CR_0.800000_OMP\n",
      "\n",
      "-Key = SSGA_PopSize32_Evals250K_MR0.050000_CR_0.800000_SEQ\n"
>>>>>>> 0a98cb9ee84635d040e9efb9620acaa9c7e51ba2
     ]
    }
   ],
   "source": [
    "path = \"/home/amarrero/Proyectos/CEC-2021-Parallel-GA-KNP/results/Preliminar/Uncorrelated/\"\n",
    "patterns = [\"Uncorrelated_N_50_R_100_0\", \"Uncorrelated_N_100_R_100_0\",\n",
    "                \"Uncorrelated_N_500_R_100_0\", \"Uncorrelated_N_1000_R_100_0\"]\n",
    "run_analysis(path, patterns)"
   ]
  },
  {
   "cell_type": "code",
   "execution_count": null,
   "metadata": {},
   "outputs": [],
   "source": []
  }
 ],
 "metadata": {
  "kernelspec": {
   "display_name": "Python 3",
   "language": "python",
   "name": "python3"
  },
  "language_info": {
   "codemirror_mode": {
    "name": "ipython",
    "version": 3
   },
   "file_extension": ".py",
   "mimetype": "text/x-python",
   "name": "python",
   "nbconvert_exporter": "python",
   "pygments_lexer": "ipython3",
   "version": "3.8.5"
  }
 },
 "nbformat": 4,
 "nbformat_minor": 4
}
