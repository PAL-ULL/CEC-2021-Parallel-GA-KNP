{
 "cells": [
  {
   "cell_type": "markdown",
   "metadata": {},
   "source": [
    "# Análisis de los resultados del estudio preliminar - CEC 2021\n"
   ]
  },
  {
   "cell_type": "code",
   "execution_count": 1,
   "metadata": {},
   "outputs": [],
   "source": [
    "from os import listdir\n",
    "import numpy as np\n",
    "import re\n",
    "import json\n",
    "from pprint import pprint as pp\n",
    "import matplotlib.pyplot as plt\n",
    "import pandas as pd\n",
    "from sklearn import preprocessing\n",
    "\n",
    "%matplotlib inline"
   ]
  },
  {
   "cell_type": "code",
   "execution_count": 2,
   "metadata": {},
   "outputs": [],
   "source": [
    "pd.set_option('display.max_rows', 500)\n",
    "pd.set_option('display.max_columns', 500)\n",
    "pd.set_option('display.width', 1000)"
   ]
  },
  {
   "cell_type": "code",
   "execution_count": 3,
   "metadata": {},
   "outputs": [],
   "source": [
    "DYNAMIC = 'Dynamic'\n",
    "DP = \".DP\"\n",
    "JSON = \".json\"\n",
    "DP_PATH = '/home/amarrero/Proyectos/CEC-2021-Parallel-GA-KNP/results/DynamicProgramming'\n",
    "GA_PATH = '/home/amarrero/Proyectos/CEC-2021-Parallel-GA-KNP/results/Preliminar/'\n",
    "RATIO = 'Ratio Avg Objective / Avg Elapsed Time'\n",
    "AVG_TIME = 'Average Elapsed Time (s)'\n",
    "AVG_OBJS = 'Average Objective'\n",
    "CONFIG = 'Configuration'"
   ]
  },
  {
   "cell_type": "code",
   "execution_count": 4,
   "metadata": {},
   "outputs": [],
   "source": [
    "def parse_files(path, pattern, verbose=True):\n",
    "    # Parseamos cada fichero de resultados\n",
    "    dp_file = f'{DP_PATH}/{pattern}{DP}'\n",
    "    optimal = 0\n",
    "    dp_time = 0\n",
    "    with open(dp_file) as file:\n",
    "        optimal = float(file.readline())\n",
    "        dp_time = float(file.readline())\n",
    "\n",
    "    dp_ratio = optimal / dp_time\n",
    "    inst_regex = rf'.*{pattern}\\.kp\\w+{JSON}'\n",
    "    configs = {}\n",
    "    for file in listdir(path):\n",
    "        # Buscamos todos los ficheros de resultados para la instancia concreta\n",
    "        if re.match(inst_regex, file):\n",
    "            key = file[:file.find('Inst') - 1]\n",
    "            group = configs.get(key, [])\n",
    "            with open(f'{path}/{file}') as f:\n",
    "                j_file = json.load(f)\n",
    "            objectives = j_file['Results']['Objectives']\n",
    "            elapsed_time = j_file['Name']['Elapsed Time']\n",
    "            # Nos quedamos con el mejor resultado obtenido\n",
    "            group.append((max(objectives), elapsed_time))\n",
    "            configs[key] = group\n",
    "\n",
    "    results = {}\n",
    "    for key in configs:\n",
    "        avg = np.average(configs[key], axis=0)\n",
    "        ratio = avg[0] / avg[1]\n",
    "        results[key] = [avg[0], avg[1], ratio]\n",
    "\n",
    "    results[DYNAMIC] = [optimal, dp_time, dp_ratio]\n",
    "    df = pd.DataFrame.from_dict(results, orient='index',\n",
    "                                columns=[AVG_OBJS, AVG_TIME, RATIO])\n",
    "    df.index.name = CONFIG\n",
    "    return df\n",
    "\n",
    "\n",
    "def to_plot(results, title):\n",
    "    min_max_scaler = preprocessing.MinMaxScaler()\n",
    "    ratio_scaled = min_max_scaler.fit_transform(results[[RATIO]])\n",
    "    results['norm_ratio'] = ratio_scaled\n",
    "    results.plot(kind='bar', y='norm_ratio')\n"
   ]
  },
  {
   "cell_type": "code",
   "execution_count": 5,
   "metadata": {},
   "outputs": [],
   "source": [
    "def run_analysis(path, patterns):\n",
    "    for pattern in patterns:\n",
    "        df_results = parse_files(path, pattern)\n",
    "        print(f'Results of Instance = {pattern}\\n{df_results}\\n')"
   ]
  },
  {
   "cell_type": "markdown",
   "metadata": {},
   "source": [
    "## SpannerStronglyCorrelated"
   ]
  },
  {
   "cell_type": "code",
   "execution_count": 6,
   "metadata": {},
   "outputs": [],
   "source": [
    "path = \"/home/amarrero/Proyectos/CEC-2021-Parallel-GA-KNP/results/Preliminar/SpannerStronglyCorrelated/\"\n",
    "patterns = [\"SpannerStronglyCorrelated_N_50_R_100_0\", \"SpannerStronglyCorrelated_N_100_R_100_0\",\n",
    "                \"SpannerStronglyCorrelated_N_500_R_100_0\", \"SpannerStronglyCorrelated_N_1000_R_100_0\"]"
   ]
  },
  {
   "cell_type": "code",
   "execution_count": 7,
   "metadata": {},
   "outputs": [
    {
     "name": "stdout",
     "output_type": "stream",
     "text": [
      "Results of Instance = SpannerStronglyCorrelated_N_50_R_100_0\n",
      "                                          Average Objective  Average Elapsed Time (s)  Ratio Avg Objective / Avg Elapsed Time\n",
      "Configuration                                                                                                                \n",
      "SSGA_PopSize32_Evals1e6_MR005_CR_08_Seq              1134.1                  3.515523                            3.225978e+02\n",
      "SSGA_PopSize32_Evals1e6_MR01_CR_07_Seq               1125.8                  3.332350                            3.378397e+02\n",
      "SSGA_PopSize32_Evals1e6_MR01_CR_07_OMP4              1099.7                  2.153320                            5.106998e+02\n",
      "SSGA_PopSize32_Evals1e6_MR005_CR_08_OMP4             1095.5                  2.268271                            4.829670e+02\n",
      "SSGA_PopSize32_Evals1e6_MR005_CR_08_PSTL             1099.4                  2.252739                            4.880281e+02\n",
      "SSGA_PopSize32_Evals1e6_MR01_CR_07_PSTL              1094.8                  2.158015                            5.073181e+02\n",
      "Dynamic                                              1190.0                  0.000086                            1.391780e+07\n",
      "\n",
      "Results of Instance = SpannerStronglyCorrelated_N_100_R_100_0\n",
      "                                          Average Objective  Average Elapsed Time (s)  Ratio Avg Objective / Avg Elapsed Time\n",
      "Configuration                                                                                                                \n",
      "SSGA_PopSize32_Evals1e6_MR005_CR_08_PSTL             3013.5                  3.328282                            9.054220e+02\n",
      "SSGA_PopSize32_Evals1e6_MR005_CR_08_Seq              3025.0                  6.261220                            4.831327e+02\n",
      "SSGA_PopSize32_Evals1e6_MR005_CR_08_OMP4             3012.9                  3.351679                            8.989226e+02\n",
      "SSGA_PopSize32_Evals1e6_MR01_CR_07_PSTL              3013.1                  3.116928                            9.666891e+02\n",
      "SSGA_PopSize32_Evals1e6_MR01_CR_07_OMP4              3019.8                  3.116026                            9.691189e+02\n",
      "SSGA_PopSize32_Evals1e6_MR01_CR_07_Seq               3024.3                  5.705230                            5.300926e+02\n",
      "Dynamic                                              3045.0                  0.000511                            5.962264e+06\n",
      "\n",
      "Results of Instance = SpannerStronglyCorrelated_N_500_R_100_0\n",
      "                                          Average Objective  Average Elapsed Time (s)  Ratio Avg Objective / Avg Elapsed Time\n",
      "Configuration                                                                                                                \n",
      "SSGA_PopSize32_Evals1e6_MR005_CR_08_PSTL            12280.2                 11.859244                            1.035496e+03\n",
      "SSGA_PopSize32_Evals1e6_MR005_CR_08_OMP4            12291.7                 11.966356                            1.027188e+03\n",
      "SSGA_PopSize32_Evals1e6_MR005_CR_08_Seq             12446.1                 36.304843                            3.428220e+02\n",
      "SSGA_PopSize32_Evals1e6_MR01_CR_07_OMP4             12277.6                 10.849398                            1.131639e+03\n",
      "SSGA_PopSize32_Evals1e6_MR01_CR_07_PSTL             12265.2                 10.851928                            1.130232e+03\n",
      "SSGA_PopSize32_Evals1e6_MR01_CR_07_Seq              12415.3                 28.993434                            4.282107e+02\n",
      "Dynamic                                             13303.0                  0.010322                            1.288801e+06\n",
      "\n",
      "Results of Instance = SpannerStronglyCorrelated_N_1000_R_100_0\n",
      "                                          Average Objective  Average Elapsed Time (s)  Ratio Avg Objective / Avg Elapsed Time\n",
      "Configuration                                                                                                                \n",
      "SSGA_PopSize32_Evals1e6_MR01_CR_07_Seq              18910.2                 55.634769                              339.898956\n",
      "SSGA_PopSize32_Evals1e6_MR01_CR_07_PSTL             18737.7                 20.489081                              914.521267\n",
      "SSGA_PopSize32_Evals1e6_MR005_CR_08_Seq             18908.3                 70.722554                              267.358840\n",
      "SSGA_PopSize32_Evals1e6_MR005_CR_08_PSTL            18732.3                 22.458359                              834.090340\n",
      "SSGA_PopSize32_Evals1e6_MR01_CR_07_OMP4             18711.4                 20.698984                              903.976758\n",
      "SSGA_PopSize32_Evals1e6_MR005_CR_08_OMP4            18710.4                 22.736455                              822.925116\n",
      "Dynamic                                             20613.0                  0.029574                           696995.005765\n",
      "\n"
     ]
    }
   ],
   "source": [
    "run_analysis(path, patterns)"
   ]
  },
  {
   "cell_type": "markdown",
   "metadata": {},
   "source": [
    "## InverseCorrelated"
   ]
  },
  {
   "cell_type": "code",
   "execution_count": 8,
   "metadata": {},
   "outputs": [
    {
     "name": "stdout",
     "output_type": "stream",
     "text": [
      "Results of Instance = InverseCorrelated_N_50_R_100_0\n",
      "                                          Average Objective  Average Elapsed Time (s)  Ratio Avg Objective / Avg Elapsed Time\n",
      "Configuration                                                                                                                \n",
      "SSGA_PopSize32_Evals1e6_MR01_CR_07_Seq               1366.0                  2.990323                            4.568068e+02\n",
      "SSGA_PopSize32_Evals1e6_MR005_CR_08_PSTL             1344.7                  2.259960                            5.950104e+02\n",
      "SSGA_PopSize32_Evals1e6_MR01_CR_07_OMP4              1346.8                  2.154247                            6.251836e+02\n",
      "SSGA_PopSize32_Evals1e6_MR005_CR_08_Seq              1372.3                  3.130260                            4.383981e+02\n",
      "SSGA_PopSize32_Evals1e6_MR01_CR_07_PSTL              1342.9                  2.146240                            6.256989e+02\n",
      "SSGA_PopSize32_Evals1e6_MR005_CR_08_OMP4             1350.0                  2.267400                            5.953956e+02\n",
      "Dynamic                                              1425.0                  0.000298                            4.780291e+06\n",
      "\n",
      "Results of Instance = InverseCorrelated_N_100_R_100_0\n",
      "                                          Average Objective  Average Elapsed Time (s)  Ratio Avg Objective / Avg Elapsed Time\n",
      "Configuration                                                                                                                \n",
      "SSGA_PopSize32_Evals1e6_MR01_CR_07_PSTL              2539.1                  3.106384                            8.173812e+02\n",
      "SSGA_PopSize32_Evals1e6_MR01_CR_07_Seq               2568.7                  4.983113                            5.154810e+02\n",
      "SSGA_PopSize32_Evals1e6_MR005_CR_08_OMP4             2542.3                  3.347363                            7.594933e+02\n",
      "SSGA_PopSize32_Evals1e6_MR01_CR_07_OMP4              2542.7                  3.122390                            8.143442e+02\n",
      "SSGA_PopSize32_Evals1e6_MR005_CR_08_Seq              2579.4                  5.437761                            4.743497e+02\n",
      "SSGA_PopSize32_Evals1e6_MR005_CR_08_PSTL             2531.5                  3.326716                            7.609607e+02\n",
      "Dynamic                                              2703.0                  0.000658                            4.106049e+06\n",
      "\n",
      "Results of Instance = InverseCorrelated_N_500_R_100_0\n",
      "                                          Average Objective  Average Elapsed Time (s)  Ratio Avg Objective / Avg Elapsed Time\n",
      "Configuration                                                                                                                \n",
      "SSGA_PopSize32_Evals1e6_MR01_CR_07_Seq              12558.3                 24.519925                              512.167146\n",
      "SSGA_PopSize32_Evals1e6_MR01_CR_07_OMP4             12487.4                 10.859346                             1149.921891\n",
      "SSGA_PopSize32_Evals1e6_MR01_CR_07_PSTL             12474.8                 10.869527                             1147.685680\n",
      "SSGA_PopSize32_Evals1e6_MR005_CR_08_PSTL            12482.4                 11.836897                             1054.533168\n",
      "SSGA_PopSize32_Evals1e6_MR005_CR_08_OMP4            12484.4                 11.942303                             1045.393045\n",
      "SSGA_PopSize32_Evals1e6_MR005_CR_08_Seq             12569.8                 26.021970                              483.045668\n",
      "Dynamic                                             13316.0                  0.017057                           780653.671406\n",
      "\n",
      "Results of Instance = InverseCorrelated_N_1000_R_100_0\n",
      "                                          Average Objective  Average Elapsed Time (s)  Ratio Avg Objective / Avg Elapsed Time\n",
      "Configuration                                                                                                                \n",
      "SSGA_PopSize32_Evals1e6_MR005_CR_08_PSTL            25020.5                 22.462718                             1113.867883\n",
      "SSGA_PopSize32_Evals1e6_MR01_CR_07_OMP4             25042.1                 20.623945                             1214.224535\n",
      "SSGA_PopSize32_Evals1e6_MR01_CR_07_PSTL             25010.5                 20.445945                             1223.249898\n",
      "SSGA_PopSize32_Evals1e6_MR01_CR_07_Seq              25198.9                 60.368957                              417.414861\n",
      "SSGA_PopSize32_Evals1e6_MR005_CR_08_OMP4            25041.3                 22.772554                             1099.626310\n",
      "SSGA_PopSize32_Evals1e6_MR005_CR_08_Seq             25198.0                 65.418099                              385.183925\n",
      "Dynamic                                             26816.0                  0.088792                           302009.870281\n",
      "\n"
     ]
    }
   ],
   "source": [
    "path = \"/home/amarrero/Proyectos/CEC-2021-Parallel-GA-KNP/results/Preliminar/InverseCorrelated/\"\n",
    "patterns = [\"InverseCorrelated_N_50_R_100_0\", \"InverseCorrelated_N_100_R_100_0\",\n",
    "                \"InverseCorrelated_N_500_R_100_0\", \"InverseCorrelated_N_1000_R_100_0\"]\n",
    "run_analysis(path, patterns)"
   ]
  },
  {
   "cell_type": "markdown",
   "metadata": {},
   "source": [
    "## StronglyCorrelated"
   ]
  },
  {
   "cell_type": "code",
   "execution_count": 9,
   "metadata": {},
   "outputs": [
    {
     "name": "stdout",
     "output_type": "stream",
     "text": [
      "Results of Instance = StronglyCorrelated_N_50_R_100_0\n",
      "                                          Average Objective  Average Elapsed Time (s)  Ratio Avg Objective / Avg Elapsed Time\n",
      "Configuration                                                                                                                \n",
      "SSGA_PopSize32_Evals1e6_MR005_CR_08_OMP4             1579.9                  2.266676                            6.970119e+02\n",
      "SSGA_PopSize32_Evals1e6_MR01_CR_07_OMP4              1583.6                  2.156741                            7.342561e+02\n",
      "SSGA_PopSize32_Evals1e6_MR01_CR_07_Seq               1611.9                  3.274761                            4.922192e+02\n",
      "SSGA_PopSize32_Evals1e6_MR01_CR_07_PSTL              1578.7                  2.156580                            7.320386e+02\n",
      "SSGA_PopSize32_Evals1e6_MR005_CR_08_PSTL             1583.8                  2.247199                            7.047886e+02\n",
      "SSGA_PopSize32_Evals1e6_MR005_CR_08_Seq              1605.3                  3.513553                            4.568879e+02\n",
      "Dynamic                                              1675.0                  0.000126                            1.328522e+07\n",
      "\n",
      "Results of Instance = StronglyCorrelated_N_100_R_100_0\n",
      "                                          Average Objective  Average Elapsed Time (s)  Ratio Avg Objective / Avg Elapsed Time\n",
      "Configuration                                                                                                                \n",
      "SSGA_PopSize32_Evals1e6_MR01_CR_07_Seq               3066.7                  5.918483                            5.181564e+02\n",
      "SSGA_PopSize32_Evals1e6_MR005_CR_08_OMP4             3013.6                  3.336843                            9.031291e+02\n",
      "SSGA_PopSize32_Evals1e6_MR005_CR_08_PSTL             3007.4                  3.310689                            9.083910e+02\n",
      "SSGA_PopSize32_Evals1e6_MR01_CR_07_PSTL              3019.8                  3.120582                            9.677041e+02\n",
      "SSGA_PopSize32_Evals1e6_MR005_CR_08_Seq              3069.3                  6.291001                            4.878874e+02\n",
      "SSGA_PopSize32_Evals1e6_MR01_CR_07_OMP4              3022.7                  3.114248                            9.706033e+02\n",
      "Dynamic                                              3223.0                  0.000499                            6.456641e+06\n",
      "\n",
      "Results of Instance = StronglyCorrelated_N_500_R_100_0\n",
      "                                          Average Objective  Average Elapsed Time (s)  Ratio Avg Objective / Avg Elapsed Time\n",
      "Configuration                                                                                                                \n",
      "SSGA_PopSize32_Evals1e6_MR01_CR_07_Seq              15030.0                 34.823526                            4.316048e+02\n",
      "SSGA_PopSize32_Evals1e6_MR005_CR_08_OMP4            14930.5                 11.985863                            1.245676e+03\n",
      "SSGA_PopSize32_Evals1e6_MR005_CR_08_PSTL            14895.8                 11.849081                            1.257127e+03\n",
      "SSGA_PopSize32_Evals1e6_MR01_CR_07_PSTL             14881.2                 10.847911                            1.371803e+03\n",
      "SSGA_PopSize32_Evals1e6_MR005_CR_08_Seq             15077.0                 37.519770                            4.018415e+02\n",
      "SSGA_PopSize32_Evals1e6_MR01_CR_07_OMP4             14918.3                 10.840081                            1.376217e+03\n",
      "Dynamic                                             15946.0                  0.012468                            1.278995e+06\n",
      "\n",
      "Results of Instance = StronglyCorrelated_N_1000_R_100_0\n",
      "                                          Average Objective  Average Elapsed Time (s)  Ratio Avg Objective / Avg Elapsed Time\n",
      "Configuration                                                                                                                \n",
      "SSGA_PopSize32_Evals1e6_MR01_CR_07_PSTL             29895.8                 20.391665                             1466.079436\n",
      "SSGA_PopSize32_Evals1e6_MR005_CR_08_Seq             30119.0                 95.428452                              315.618659\n",
      "SSGA_PopSize32_Evals1e6_MR005_CR_08_OMP4            29940.4                 22.834068                             1311.216216\n",
      "SSGA_PopSize32_Evals1e6_MR01_CR_07_Seq              30112.0                 81.087816                              371.350486\n",
      "SSGA_PopSize32_Evals1e6_MR005_CR_08_PSTL            29876.8                 22.425292                             1332.281408\n",
      "SSGA_PopSize32_Evals1e6_MR01_CR_07_OMP4             29916.1                 20.561804                             1454.935576\n",
      "Dynamic                                             32076.0                  0.086599                           370397.742232\n",
      "\n"
     ]
    }
   ],
   "source": [
    "path = \"/home/amarrero/Proyectos/CEC-2021-Parallel-GA-KNP/results/Preliminar/StronglyCorrelated/\"\n",
    "patterns = [\"StronglyCorrelated_N_50_R_100_0\", \"StronglyCorrelated_N_100_R_100_0\",\n",
    "                \"StronglyCorrelated_N_500_R_100_0\", \"StronglyCorrelated_N_1000_R_100_0\"]\n",
    "run_analysis(path, patterns)"
   ]
  },
  {
   "cell_type": "markdown",
   "metadata": {},
   "source": [
    "## SubsetSum"
   ]
  },
  {
   "cell_type": "code",
   "execution_count": 10,
   "metadata": {},
   "outputs": [
    {
     "name": "stdout",
     "output_type": "stream",
     "text": [
      "Results of Instance = SubsetSum_N_50_R_100_0\n",
      "                                          Average Objective  Average Elapsed Time (s)  Ratio Avg Objective / Avg Elapsed Time\n",
      "Configuration                                                                                                                \n",
      "SSGA_PopSize32_Evals1e6_MR005_CR_08_Seq              1344.9                  3.544693                            3.794123e+02\n",
      "SSGA_PopSize32_Evals1e6_MR01_CR_07_PSTL              1338.8                  2.149945                            6.227135e+02\n",
      "SSGA_PopSize32_Evals1e6_MR005_CR_08_OMP4             1338.4                  2.276574                            5.879009e+02\n",
      "SSGA_PopSize32_Evals1e6_MR01_CR_07_Seq               1344.7                  3.257580                            4.127911e+02\n",
      "SSGA_PopSize32_Evals1e6_MR005_CR_08_PSTL             1340.6                  2.250829                            5.956029e+02\n",
      "SSGA_PopSize32_Evals1e6_MR01_CR_07_OMP4              1341.7                  2.162395                            6.204694e+02\n",
      "Dynamic                                              1345.0                  0.000246                            5.463127e+06\n",
      "\n",
      "Results of Instance = SubsetSum_N_100_R_100_0\n",
      "                                          Average Objective  Average Elapsed Time (s)  Ratio Avg Objective / Avg Elapsed Time\n",
      "Configuration                                                                                                                \n",
      "SSGA_PopSize32_Evals1e6_MR005_CR_08_PSTL             2528.1                  3.320127                            7.614467e+02\n",
      "SSGA_PopSize32_Evals1e6_MR01_CR_07_Seq               2533.0                  6.550734                            3.866743e+02\n",
      "SSGA_PopSize32_Evals1e6_MR01_CR_07_OMP4              2526.2                  3.113418                            8.113912e+02\n",
      "SSGA_PopSize32_Evals1e6_MR005_CR_08_Seq              2533.0                  7.251381                            3.493128e+02\n",
      "SSGA_PopSize32_Evals1e6_MR005_CR_08_OMP4             2519.0                  3.347232                            7.525620e+02\n",
      "SSGA_PopSize32_Evals1e6_MR01_CR_07_PSTL              2529.4                  3.107549                            8.139534e+02\n",
      "Dynamic                                              2533.0                  0.000927                            2.732149e+06\n",
      "\n",
      "Results of Instance = SubsetSum_N_500_R_100_0\n",
      "                                          Average Objective  Average Elapsed Time (s)  Ratio Avg Objective / Avg Elapsed Time\n",
      "Configuration                                                                                                                \n",
      "SSGA_PopSize32_Evals1e6_MR01_CR_07_OMP4             12441.8                 10.857212                             1145.947926\n",
      "SSGA_PopSize32_Evals1e6_MR01_CR_07_Seq              12446.0                 40.696698                              305.823334\n",
      "SSGA_PopSize32_Evals1e6_MR005_CR_08_Seq             12446.0                 49.945748                              249.190383\n",
      "SSGA_PopSize32_Evals1e6_MR005_CR_08_OMP4            12441.1                 11.966739                             1039.639948\n",
      "SSGA_PopSize32_Evals1e6_MR005_CR_08_PSTL            12438.3                 11.793455                             1054.678241\n",
      "SSGA_PopSize32_Evals1e6_MR01_CR_07_PSTL             12439.5                 10.806999                             1151.059574\n",
      "Dynamic                                             12446.0                  0.025158                           494705.545663\n",
      "\n",
      "Results of Instance = SubsetSum_N_1000_R_100_0\n",
      "                                          Average Objective  Average Elapsed Time (s)  Ratio Avg Objective / Avg Elapsed Time\n",
      "Configuration                                                                                                                \n",
      "SSGA_PopSize32_Evals1e6_MR005_CR_08_OMP4            24969.6                 22.874470                             1091.592484\n",
      "SSGA_PopSize32_Evals1e6_MR005_CR_08_PSTL            24965.5                 22.489029                             1110.119074\n",
      "SSGA_PopSize32_Evals1e6_MR01_CR_07_PSTL             24972.8                 20.444306                             1221.503934\n",
      "SSGA_PopSize32_Evals1e6_MR005_CR_08_Seq             24976.0                142.763357                              174.946852\n",
      "SSGA_PopSize32_Evals1e6_MR01_CR_07_OMP4             24972.2                 20.574364                             1213.753180\n",
      "SSGA_PopSize32_Evals1e6_MR01_CR_07_Seq              24976.0                105.190890                              237.435010\n",
      "Dynamic                                             24976.0                  0.091052                           274304.792866\n",
      "\n"
     ]
    }
   ],
   "source": [
    "path = \"/home/amarrero/Proyectos/CEC-2021-Parallel-GA-KNP/results/Preliminar/SubsetSum/\"\n",
    "patterns = [\"SubsetSum_N_50_R_100_0\", \"SubsetSum_N_100_R_100_0\",\n",
    "                \"SubsetSum_N_500_R_100_0\", \"SubsetSum_N_1000_R_100_0\"]\n",
    "run_analysis(path, patterns)"
   ]
  },
  {
   "cell_type": "markdown",
   "metadata": {},
   "source": [
    "## Uncorrelated"
   ]
  },
  {
   "cell_type": "code",
   "execution_count": 11,
   "metadata": {},
   "outputs": [
    {
     "name": "stdout",
     "output_type": "stream",
     "text": [
      "Results of Instance = Uncorrelated_N_50_R_100_0\n",
      "                                          Average Objective  Average Elapsed Time (s)  Ratio Avg Objective / Avg Elapsed Time\n",
      "Configuration                                                                                                                \n",
      "SSGA_PopSize32_Evals1e6_MR01_CR_07_PSTL              1422.7                  2.150116                            6.616852e+02\n",
      "SSGA_PopSize32_Evals1e6_MR01_CR_07_Seq               1750.0                  3.033737                            5.768464e+02\n",
      "SSGA_PopSize32_Evals1e6_MR005_CR_08_Seq              1828.6                  3.203432                            5.708253e+02\n",
      "SSGA_PopSize32_Evals1e6_MR005_CR_08_OMP4             1410.5                  2.270830                            6.211386e+02\n",
      "SSGA_PopSize32_Evals1e6_MR005_CR_08_PSTL             1523.7                  2.256992                            6.751020e+02\n",
      "SSGA_PopSize32_Evals1e6_MR01_CR_07_OMP4              1430.1                  2.153728                            6.640113e+02\n",
      "Dynamic                                              1969.0                  0.000236                            8.340040e+06\n",
      "\n",
      "Results of Instance = Uncorrelated_N_100_R_100_0\n",
      "                                          Average Objective  Average Elapsed Time (s)  Ratio Avg Objective / Avg Elapsed Time\n",
      "Configuration                                                                                                                \n",
      "SSGA_PopSize32_Evals1e6_MR01_CR_07_OMP4              2640.4                  3.171895                            8.324361e+02\n",
      "SSGA_PopSize32_Evals1e6_MR005_CR_08_PSTL             2646.3                  3.389285                            7.807841e+02\n",
      "SSGA_PopSize32_Evals1e6_MR005_CR_08_OMP4             2612.0                  3.386720                            7.712478e+02\n",
      "SSGA_PopSize32_Evals1e6_MR01_CR_07_PSTL              2655.6                  3.156022                            8.414389e+02\n",
      "SSGA_PopSize32_Evals1e6_MR005_CR_08_Seq              3404.9                  5.427340                            6.273608e+02\n",
      "SSGA_PopSize32_Evals1e6_MR01_CR_07_Seq               3299.1                  5.204390                            6.339072e+02\n",
      "Dynamic                                              3832.0                  0.000863                            4.439604e+06\n",
      "\n",
      "Results of Instance = Uncorrelated_N_500_R_100_0\n",
      "                                          Average Objective  Average Elapsed Time (s)  Ratio Avg Objective / Avg Elapsed Time\n",
      "Configuration                                                                                                                \n",
      "SSGA_PopSize32_Evals1e6_MR01_CR_07_PSTL             13031.3                 10.789524                             1207.773418\n",
      "SSGA_PopSize32_Evals1e6_MR01_CR_07_OMP4             13135.2                 10.871627                             1208.209270\n",
      "SSGA_PopSize32_Evals1e6_MR005_CR_08_PSTL            13097.8                 11.885794                             1101.970968\n",
      "SSGA_PopSize32_Evals1e6_MR005_CR_08_Seq             15536.9                 31.706201                              490.027165\n",
      "SSGA_PopSize32_Evals1e6_MR005_CR_08_OMP4            13219.2                 11.930077                             1108.056537\n",
      "SSGA_PopSize32_Evals1e6_MR01_CR_07_Seq              15634.9                 28.606898                              546.543003\n",
      "Dynamic                                             20718.0                  0.023078                           897730.325589\n",
      "\n",
      "Results of Instance = Uncorrelated_N_1000_R_100_0\n",
      "                                          Average Objective  Average Elapsed Time (s)  Ratio Avg Objective / Avg Elapsed Time\n",
      "Configuration                                                                                                                \n",
      "SSGA_PopSize32_Evals1e6_MR005_CR_08_OMP4            26227.9                 22.716371                             1154.581404\n",
      "SSGA_PopSize32_Evals1e6_MR01_CR_07_Seq              29322.5                 72.165574                              406.322548\n",
      "SSGA_PopSize32_Evals1e6_MR005_CR_08_Seq             29968.3                 75.428943                              397.305051\n",
      "SSGA_PopSize32_Evals1e6_MR01_CR_07_OMP4             26493.9                 20.580128                             1287.353521\n",
      "SSGA_PopSize32_Evals1e6_MR005_CR_08_PSTL            26378.0                 22.516049                             1171.519920\n",
      "SSGA_PopSize32_Evals1e6_MR01_CR_07_PSTL             26258.0                 20.515831                             1279.889677\n",
      "Dynamic                                             41175.0                  0.090231                           456331.284876\n",
      "\n"
     ]
    }
   ],
   "source": [
    "path = \"/home/amarrero/Proyectos/CEC-2021-Parallel-GA-KNP/results/Preliminar/Uncorrelated/\"\n",
    "patterns = [\"Uncorrelated_N_50_R_100_0\", \"Uncorrelated_N_100_R_100_0\",\n",
    "                \"Uncorrelated_N_500_R_100_0\", \"Uncorrelated_N_1000_R_100_0\"]\n",
    "run_analysis(path, patterns)"
   ]
  }
 ],
 "metadata": {
  "kernelspec": {
   "display_name": "Python 3",
   "language": "python",
   "name": "python3"
  },
  "language_info": {
   "codemirror_mode": {
    "name": "ipython",
    "version": 3
   },
   "file_extension": ".py",
   "mimetype": "text/x-python",
   "name": "python",
   "nbconvert_exporter": "python",
   "pygments_lexer": "ipython3",
   "version": "3.8.5"
  }
 },
 "nbformat": 4,
 "nbformat_minor": 4
}
